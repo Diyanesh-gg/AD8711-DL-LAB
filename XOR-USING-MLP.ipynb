{
 "cells": [
  {
   "cell_type": "code",
   "execution_count": 1,
   "metadata": {
    "collapsed": true,
    "ExecuteTime": {
     "start_time": "2023-05-12T13:28:56.027699Z",
     "end_time": "2023-05-12T13:28:58.010175Z"
    }
   },
   "outputs": [],
   "source": [
    "from keras.models import Sequential\n",
    "from keras.layers import Dense\n",
    "import numpy as np"
   ]
  },
  {
   "cell_type": "code",
   "execution_count": 2,
   "outputs": [],
   "source": [
    "X_train = np.array([[0, 0], [0, 1], [1, 0], [1, 1]])\n",
    "y_train = np.array([[0], [1], [1], [0]])"
   ],
   "metadata": {
    "collapsed": false,
    "ExecuteTime": {
     "start_time": "2023-05-12T13:28:58.012183Z",
     "end_time": "2023-05-12T13:28:58.014348Z"
    }
   }
  },
  {
   "cell_type": "code",
   "execution_count": 3,
   "outputs": [],
   "source": [
    "model = Sequential([\n",
    "    Dense(4, input_dim=2, activation='sigmoid'),\n",
    "    Dense(1, activation='sigmoid')\n",
    "])\n",
    "\n",
    "model.compile(loss='binary_crossentropy',\n",
    "              optimizer='adam',\n",
    "              metrics=['accuracy'])"
   ],
   "metadata": {
    "collapsed": false,
    "ExecuteTime": {
     "start_time": "2023-05-12T13:28:58.014348Z",
     "end_time": "2023-05-12T13:28:58.069508Z"
    }
   }
  },
  {
   "cell_type": "code",
   "execution_count": 4,
   "outputs": [
    {
     "name": "stdout",
     "output_type": "stream",
     "text": [
      "1/1 [==============================] - 0s 79ms/step - loss: 0.2906 - accuracy: 1.0000\n",
      "Loss: 0.290603905916214, Accuracy: 1.0\n"
     ]
    }
   ],
   "source": [
    "model.fit(X_train, y_train, epochs=2000, verbose=0)\n",
    "\n",
    "loss, accuracy = model.evaluate(X_train, y_train)\n",
    "print(f\"Loss: {loss}, Accuracy: {accuracy}\")"
   ],
   "metadata": {
    "collapsed": false,
    "ExecuteTime": {
     "start_time": "2023-05-12T13:28:58.069508Z",
     "end_time": "2023-05-12T13:29:01.972708Z"
    }
   }
  },
  {
   "cell_type": "code",
   "execution_count": 5,
   "outputs": [
    {
     "name": "stdout",
     "output_type": "stream",
     "text": [
      "1/1 [==============================] - 0s 47ms/step\n",
      "Input\tOutput\n",
      "[0 0]\t0\n",
      "[0 1]\t1\n",
      "[1 0]\t1\n",
      "[1 1]\t0\n"
     ]
    }
   ],
   "source": [
    "X_test = np.array([[0, 0], [0, 1], [1, 0], [1, 1]])\n",
    "y_pred = (model.predict(X_test) > 0.5).astype(\"int32\")\n",
    "print(\"Input\\tOutput\")\n",
    "for i in range(len(X_test)):\n",
    "    print(f\"{X_test[i]}\\t{y_pred[i][0]}\")"
   ],
   "metadata": {
    "collapsed": false,
    "ExecuteTime": {
     "start_time": "2023-05-12T13:29:01.973710Z",
     "end_time": "2023-05-12T13:29:02.047474Z"
    }
   }
  }
 ],
 "metadata": {
  "kernelspec": {
   "display_name": "Python 3",
   "language": "python",
   "name": "python3"
  },
  "language_info": {
   "codemirror_mode": {
    "name": "ipython",
    "version": 2
   },
   "file_extension": ".py",
   "mimetype": "text/x-python",
   "name": "python",
   "nbconvert_exporter": "python",
   "pygments_lexer": "ipython2",
   "version": "2.7.6"
  }
 },
 "nbformat": 4,
 "nbformat_minor": 0
}
