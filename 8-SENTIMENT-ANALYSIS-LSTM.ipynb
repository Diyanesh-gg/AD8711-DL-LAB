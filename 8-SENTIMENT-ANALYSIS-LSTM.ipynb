{
 "cells": [
  {
   "cell_type": "code",
   "execution_count": 1,
   "metadata": {
    "collapsed": true,
    "ExecuteTime": {
     "start_time": "2023-05-13T17:38:58.688957Z",
     "end_time": "2023-05-13T17:39:02.525576Z"
    }
   },
   "outputs": [],
   "source": [
    "from keras.datasets import imdb\n",
    "\n",
    "(x_train, y_train), (x_test, y_test) = imdb.load_data(num_words=10000)"
   ]
  },
  {
   "cell_type": "code",
   "execution_count": 2,
   "outputs": [],
   "source": [
    "from keras.utils import pad_sequences\n",
    "\n",
    "max_len = 100\n",
    "x_train = pad_sequences(x_train, maxlen=max_len)\n",
    "x_test = pad_sequences(x_test, maxlen=max_len)"
   ],
   "metadata": {
    "collapsed": false,
    "ExecuteTime": {
     "start_time": "2023-05-13T17:39:02.527658Z",
     "end_time": "2023-05-13T17:39:02.758162Z"
    }
   }
  },
  {
   "cell_type": "code",
   "execution_count": 3,
   "outputs": [],
   "source": [
    "from keras.models import Sequential\n",
    "from keras.layers import Embedding, LSTM, Dense\n",
    "\n",
    "model = Sequential([\n",
    "    Embedding(10000, 192),\n",
    "    LSTM(128, dropout=0.2, recurrent_dropout=0.2),\n",
    "    Dense(1, activation='sigmoid')\n",
    "])\n",
    "model.compile(loss='binary_crossentropy', optimizer='adam', metrics=['accuracy'])"
   ],
   "metadata": {
    "collapsed": false,
    "ExecuteTime": {
     "start_time": "2023-05-13T17:39:02.759162Z",
     "end_time": "2023-05-13T17:39:02.881949Z"
    }
   }
  },
  {
   "cell_type": "code",
   "execution_count": 4,
   "outputs": [
    {
     "name": "stdout",
     "output_type": "stream",
     "text": [
      "Test score: 0.50 - Test accuracy: 0.83\n"
     ]
    }
   ],
   "source": [
    "model.fit(x_train, y_train, batch_size=32, epochs=5, verbose=0)\n",
    "\n",
    "score, acc = model.evaluate(x_test, y_test, batch_size=32, verbose=0)\n",
    "print(f\"Test score: {score:.2f} - Test accuracy: {acc:.2f}\")"
   ],
   "metadata": {
    "collapsed": false,
    "ExecuteTime": {
     "start_time": "2023-05-13T17:39:02.881949Z",
     "end_time": "2023-05-13T17:45:25.189091Z"
    }
   }
  },
  {
   "cell_type": "code",
   "execution_count": 5,
   "outputs": [
    {
     "name": "stdout",
     "output_type": "stream",
     "text": [
      "Review: ? skills 1 000 hours of flight...\n",
      "Sentiment: Positive\n",
      "Predicted sentiment: Positive\n",
      "Confidence: 0.92\n",
      "--------------------------------------------------\n",
      "Review: ? ? ? ? ? ? ? ? ? ? ? ? ? ? be...\n",
      "Sentiment: Negative\n",
      "Predicted sentiment: Negative\n",
      "Confidence: 1.00\n",
      "--------------------------------------------------\n",
      "Review: magnificent halloween 1978 to ...\n",
      "Sentiment: Positive\n",
      "Predicted sentiment: Positive\n",
      "Confidence: 1.00\n",
      "--------------------------------------------------\n",
      "Review: to watch the ? in northern afr...\n",
      "Sentiment: Positive\n",
      "Predicted sentiment: Positive\n",
      "Confidence: 0.99\n",
      "--------------------------------------------------\n",
      "Review: all for british independent fi...\n",
      "Sentiment: Negative\n",
      "Predicted sentiment: Positive\n",
      "Confidence: 0.99\n",
      "--------------------------------------------------\n"
     ]
    }
   ],
   "source": [
    "word_index = imdb.get_word_index()\n",
    "reverse_word_index = {value: key for (key, value) in word_index.items()}\n",
    "\n",
    "def decode_review(review):\n",
    "    return ' '.join([reverse_word_index.get(i - 3, '?') for i in review])\n",
    "\n",
    "import numpy as np\n",
    "random_indices = np.random.randint(0, len(x_test), 5)\n",
    "x_sample = x_test[random_indices]\n",
    "y_sample = y_test[random_indices]\n",
    "y_pred = model.predict(x_sample, batch_size=5, verbose=0)\n",
    "\n",
    "for i in range(len(x_sample)):\n",
    "    print(f\"Review: {decode_review(x_sample[i])[0:30]}...\")\n",
    "    print(f\"Sentiment: {'Positive' if y_sample[i] == 1 else 'Negative'}\")\n",
    "    print(f\"Predicted sentiment: {'Positive' if y_pred[i] > 0.5 else 'Negative'}\")\n",
    "    confidence = y_pred[i] if y_pred[i] > 0.5 else 1 - y_pred[i]\n",
    "    print(f\"Confidence: {confidence[0]:.2f}\")\n",
    "    print('-'*50)"
   ],
   "metadata": {
    "collapsed": false,
    "ExecuteTime": {
     "start_time": "2023-05-13T17:45:25.191142Z",
     "end_time": "2023-05-13T17:45:25.412201Z"
    }
   }
  }
 ],
 "metadata": {
  "kernelspec": {
   "display_name": "Python 3",
   "language": "python",
   "name": "python3"
  },
  "language_info": {
   "codemirror_mode": {
    "name": "ipython",
    "version": 2
   },
   "file_extension": ".py",
   "mimetype": "text/x-python",
   "name": "python",
   "nbconvert_exporter": "python",
   "pygments_lexer": "ipython2",
   "version": "2.7.6"
  }
 },
 "nbformat": 4,
 "nbformat_minor": 0
}
