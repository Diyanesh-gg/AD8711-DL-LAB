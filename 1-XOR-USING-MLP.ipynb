{
 "cells": [
  {
   "cell_type": "code",
   "execution_count": 1,
   "metadata": {
    "collapsed": true,
    "ExecuteTime": {
     "start_time": "2023-05-13T15:24:13.712210Z",
     "end_time": "2023-05-13T15:24:15.752790Z"
    }
   },
   "outputs": [],
   "source": [
    "from keras.models import Sequential\n",
    "from keras.layers import Dense\n",
    "import numpy as np\n",
    "\n",
    "import tensorflow as tf\n",
    "tf.random.set_seed(69)"
   ]
  },
  {
   "cell_type": "code",
   "execution_count": 2,
   "outputs": [],
   "source": [
    "X_train = np.array([[0, 0], [0, 1], [1, 0], [1, 1]])\n",
    "y_train = np.array([[0], [1], [1], [0]])"
   ],
   "metadata": {
    "collapsed": false,
    "ExecuteTime": {
     "start_time": "2023-05-13T15:24:15.755833Z",
     "end_time": "2023-05-13T15:24:15.756839Z"
    }
   }
  },
  {
   "cell_type": "code",
   "execution_count": 3,
   "outputs": [],
   "source": [
    "model = Sequential([\n",
    "    Dense(4, input_dim=2, activation='sigmoid'),\n",
    "    Dense(1, activation='sigmoid')\n",
    "])\n",
    "\n",
    "model.compile(loss='binary_crossentropy',\n",
    "              optimizer='adam',\n",
    "              metrics=['accuracy'])"
   ],
   "metadata": {
    "collapsed": false,
    "ExecuteTime": {
     "start_time": "2023-05-13T15:24:15.757839Z",
     "end_time": "2023-05-13T15:24:15.810867Z"
    }
   }
  },
  {
   "cell_type": "code",
   "execution_count": 4,
   "outputs": [
    {
     "name": "stdout",
     "output_type": "stream",
     "text": [
      "Loss: 0.24, Accuracy: 1.00\n"
     ]
    }
   ],
   "source": [
    "model.fit(X_train, y_train, epochs=2000, verbose=0)\n",
    "\n",
    "loss, accuracy = model.evaluate(X_train, y_train, verbose=0)\n",
    "print(f\"Loss: {loss:.2f}, Accuracy: {accuracy:.2f}\")"
   ],
   "metadata": {
    "collapsed": false,
    "ExecuteTime": {
     "start_time": "2023-05-13T15:24:15.810867Z",
     "end_time": "2023-05-13T15:24:19.643782Z"
    }
   }
  },
  {
   "cell_type": "code",
   "execution_count": 5,
   "outputs": [
    {
     "name": "stdout",
     "output_type": "stream",
     "text": [
      "Input\tOutput\n",
      "[0 0]\t0\n",
      "[0 1]\t1\n",
      "[1 0]\t1\n",
      "[1 1]\t0\n"
     ]
    }
   ],
   "source": [
    "X_test = np.array([[0, 0], [0, 1], [1, 0], [1, 1]])\n",
    "y_pred = (model.predict(X_test, verbose=0) > 0.5).astype(\"int32\")\n",
    "print(\"Input\\tOutput\")\n",
    "for i in range(len(X_test)):\n",
    "    print(f\"{X_test[i]}\\t{y_pred[i][0]}\")"
   ],
   "metadata": {
    "collapsed": false,
    "ExecuteTime": {
     "start_time": "2023-05-13T15:24:19.644676Z",
     "end_time": "2023-05-13T15:24:19.712431Z"
    }
   }
  }
 ],
 "metadata": {
  "kernelspec": {
   "display_name": "Python 3",
   "language": "python",
   "name": "python3"
  },
  "language_info": {
   "codemirror_mode": {
    "name": "ipython",
    "version": 2
   },
   "file_extension": ".py",
   "mimetype": "text/x-python",
   "name": "python",
   "nbconvert_exporter": "python",
   "pygments_lexer": "ipython2",
   "version": "2.7.6"
  }
 },
 "nbformat": 4,
 "nbformat_minor": 0
}
